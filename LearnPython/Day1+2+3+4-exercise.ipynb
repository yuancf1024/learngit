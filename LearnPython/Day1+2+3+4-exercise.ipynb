{
 "cells": [
  {
   "cell_type": "markdown",
   "metadata": {},
   "source": [
    "# Day1 初识Python\n",
    "2020-07-07"
   ]
  },
  {
   "cell_type": "markdown",
   "metadata": {},
   "source": [
    "**练习1** 在Python交互式环境中输入下面的代码并查看结果，请尝试将看到的内容翻译成中文。"
   ]
  },
  {
   "cell_type": "code",
   "execution_count": 1,
   "metadata": {},
   "outputs": [
    {
     "name": "stdout",
     "output_type": "stream",
     "text": [
      "The Zen of Python, by Tim Peters\n",
      "\n",
      "Beautiful is better than ugly.\n",
      "Explicit is better than implicit.\n",
      "Simple is better than complex.\n",
      "Complex is better than complicated.\n",
      "Flat is better than nested.\n",
      "Sparse is better than dense.\n",
      "Readability counts.\n",
      "Special cases aren't special enough to break the rules.\n",
      "Although practicality beats purity.\n",
      "Errors should never pass silently.\n",
      "Unless explicitly silenced.\n",
      "In the face of ambiguity, refuse the temptation to guess.\n",
      "There should be one-- and preferably only one --obvious way to do it.\n",
      "Although that way may not be obvious at first unless you're Dutch.\n",
      "Now is better than never.\n",
      "Although never is often better than *right* now.\n",
      "If the implementation is hard to explain, it's a bad idea.\n",
      "If the implementation is easy to explain, it may be a good idea.\n",
      "Namespaces are one honking great idea -- let's do more of those!\n"
     ]
    }
   ],
   "source": [
    "import this"
   ]
  },
  {
   "cell_type": "markdown",
   "metadata": {},
   "source": [
    "**Python 之禅** Tim Peters\n",
    "优美胜于丑陋（Python以编写优美的代码为目标）\n",
    "明了胜于晦涩（优美的代码应当是明了的，命名规范，风格相似）\n",
    "简洁胜于复杂（优美的代码应当是简洁的，不要有复杂的内部实现）\n",
    "复杂胜于凌乱（如果复杂不可避免，那代码之间也不能有难懂的关系，要保持接口简洁）\n",
    "扁平胜于嵌套（优美的代码应当是扁平的，不能有太多的嵌套）\n",
    "间隔胜于紧凑（优美的代码有适当的间隔，不要奢望一行代码解决问题）\n",
    "可读性很重要（优美的代码是可读的）\n",
    "即便假借特例的实用性之名，也不可违背这些规则（这些规则至高无上）\n",
    "\n",
    "不要包容所有错误，除非你确定需要这样做（精准地捕获异常，不写except:pass 风格的代码）\n",
    "\n",
    "当存在多种可能，不要尝试去猜测\n",
    "而是尽量找一种，最好是唯一一种明显的解决方案（如果不确定，就用穷举法）\n",
    "虽然这并不容易，因为你不是Python之父\n",
    "\n",
    "做也许好过不做，但不假思索就动手还不如不做（动手之前要细思量）\n",
    "\n",
    "如果你无法向别人描述你的方案，那肯定不是一个好方案；反之亦然（方案测评标准）\n",
    "\n",
    "命名空间是一种绝妙的理念，我们应当多加利用。（倡导与号召）\n",
    "\n",
    "\n"
   ]
  },
  {
   "cell_type": "markdown",
   "metadata": {},
   "source": [
    "**练习2** 学习使用turtle在屏幕上绘制图形。"
   ]
  },
  {
   "cell_type": "code",
   "execution_count": null,
   "metadata": {},
   "outputs": [],
   "source": [
    "import turtle\n",
    "\n",
    "turtle.pensize(4)\n",
    "turtle.pencolor('red')\n",
    "\n",
    "turtle.forward(100)\n",
    "turtle.right(90)\n",
    "turtle.forward(100)\n",
    "turtle.right(90)\n",
    "turtle.forward(100)\n",
    "turtle.right(90)\n",
    "turtle.forward(100)\n",
    "\n",
    "turtle.mainloop()"
   ]
  },
  {
   "cell_type": "markdown",
   "metadata": {},
   "source": [
    "# Day 2- 语言元素"
   ]
  },
  {
   "cell_type": "code",
   "execution_count": 1,
   "metadata": {},
   "outputs": [
    {
     "name": "stdout",
     "output_type": "stream",
     "text": [
      "333\n",
      "309\n",
      "3852\n",
      "26.75\n"
     ]
    }
   ],
   "source": [
    "\"\"\"\n",
    "使用变量名保存数据并进行加减乘除运算\n",
    "\"\"\"\n",
    "a = 321\n",
    "b = 12\n",
    "print(a + b)\n",
    "print(a - b)\n",
    "print(a * b)\n",
    "print(a / b)"
   ]
  },
  {
   "cell_type": "code",
   "execution_count": 2,
   "metadata": {},
   "outputs": [
    {
     "name": "stdout",
     "output_type": "stream",
     "text": [
      "<class 'int'>\n",
      "<class 'float'>\n",
      "<class 'complex'>\n",
      "<class 'str'>\n",
      "<class 'bool'>\n"
     ]
    }
   ],
   "source": [
    "\"\"\"\n",
    "使用type()检查变量的类型\n",
    "\"\"\"\n",
    "a = 100\n",
    "b = 12.345\n",
    "c = 1 + 5j\n",
    "d = \"hello, world\"\n",
    "e = True\n",
    "print(type(a))\n",
    "print(type(b))\n",
    "print(type(c))\n",
    "print(type(d))\n",
    "print(type(e))"
   ]
  },
  {
   "cell_type": "markdown",
   "metadata": {},
   "source": [
    "使用input()函数获取键盘输入（字符串）\n",
    "使用int()函数将输入的字符串转换成整数\n",
    "使用print()函数输出带占位符的字符串"
   ]
  },
  {
   "cell_type": "code",
   "execution_count": 3,
   "metadata": {},
   "outputs": [
    {
     "name": "stdout",
     "output_type": "stream",
     "text": [
      "a = 10\n",
      "b = 5\n",
      "10 + 5 = 15\n",
      "10 - 5 = 5\n",
      "10 * 5 = 50\n",
      "10 / 5 = 2.000000\n",
      "10 // 5 = 2\n",
      "10 % 5 = 0\n",
      "10 ** 5 = 100000\n"
     ]
    }
   ],
   "source": [
    "a = int(input('a = '))\n",
    "b = int(input('b = '))\n",
    "print('%d + %d = %d' % (a, b, a + b))\n",
    "print('%d - %d = %d' % (a, b, a - b))\n",
    "print('%d * %d = %d' % (a, b, a * b))\n",
    "print('%d / %d = %f' % (a, b, a / b))\n",
    "print('%d // %d = %d' % (a, b, a // b))\n",
    "print('%d %% %d = %d' % (a, b, a % b))\n",
    "print('%d ** %d = %d' % (a, b, a ** b))"
   ]
  },
  {
   "cell_type": "markdown",
   "metadata": {},
   "source": [
    "**赋值运算符**"
   ]
  },
  {
   "cell_type": "code",
   "execution_count": 4,
   "metadata": {},
   "outputs": [
    {
     "name": "stdout",
     "output_type": "stream",
     "text": [
      "195\n"
     ]
    }
   ],
   "source": [
    "\"\"\"\n",
    "赋值运算符和复合赋值运算符\n",
    "\"\"\"\n",
    "a = 10\n",
    "b = 3\n",
    "a += b\n",
    "a *= a + 2\n",
    "print(a)"
   ]
  },
  {
   "cell_type": "markdown",
   "metadata": {},
   "source": [
    "**比较运算符和逻辑运算符**"
   ]
  },
  {
   "cell_type": "code",
   "execution_count": 13,
   "metadata": {},
   "outputs": [
    {
     "name": "stdout",
     "output_type": "stream",
     "text": [
      "flag0 =  True\n",
      "flag1 =  True\n",
      "flag2 =  False\n",
      "flag3 =  False\n",
      "flag4 =  True\n",
      "flag5 =  False\n"
     ]
    }
   ],
   "source": [
    "\"\"\"\n",
    "比较运算符和逻辑运算符的使用\n",
    "\"\"\"\n",
    "flag0 = 1 == 1\n",
    "flag1 = 3 > 2\n",
    "flag2 = 2 < 1\n",
    "flag3 = flag1 and flag2\n",
    "flag4 = flag1 or flag2\n",
    "flag5 = not (1 != 2)\n",
    "print('flag0 = ', flag0)\n",
    "print('flag1 = ', flag1)\n",
    "print('flag2 = ', flag2)\n",
    "print('flag3 = ', flag3)\n",
    "print('flag4 = ', flag4)\n",
    "print('flag5 = ', flag5)"
   ]
  },
  {
   "cell_type": "markdown",
   "metadata": {},
   "source": [
    "**练习1：华氏温度转换为摄氏温度。**\n",
    "\n",
    "> 提示：华氏温度到摄氏温度的转换公式为：$C=(F - 32) \\div 1.8$。"
   ]
  },
  {
   "cell_type": "code",
   "execution_count": 14,
   "metadata": {},
   "outputs": [
    {
     "name": "stdout",
     "output_type": "stream",
     "text": [
      "请输入华氏温度: 100.1\n",
      "100.1华氏度 = 37.8摄氏度\n"
     ]
    }
   ],
   "source": [
    "\"\"\"\n",
    "将华氏温度转化为摄氏温度\n",
    "\"\"\"\n",
    "f = float(input('请输入华氏温度: '))\n",
    "c = (f - 32) / 1.8\n",
    "print('%.1f华氏度 = %.1f摄氏度' % (f, c))"
   ]
  },
  {
   "cell_type": "code",
   "execution_count": 15,
   "metadata": {},
   "outputs": [
    {
     "name": "stdout",
     "output_type": "stream",
     "text": [
      "100.1华氏度 = 37.8摄氏度\n"
     ]
    }
   ],
   "source": [
    "print(f'{f:.1f}华氏度 = {c:.1f}摄氏度')"
   ]
  },
  {
   "cell_type": "markdown",
   "metadata": {},
   "source": [
    "**练习2：输入圆的半径计算计算周长和面积。**"
   ]
  },
  {
   "cell_type": "code",
   "execution_count": 17,
   "metadata": {},
   "outputs": [
    {
     "name": "stdout",
     "output_type": "stream",
     "text": [
      "请输入圆的半径2.5\n",
      "圆的周长是15.707963, 面积是19.634954 \n"
     ]
    }
   ],
   "source": [
    "\"\"\"\n",
    "输入圆的半径计算计算周长和面积\n",
    "\n",
    "version: 0.1\n",
    "Author: chenfengyaun\n",
    "\"\"\"\n",
    "import math\n",
    "r = float(input(\"请输入圆的半径\"))\n",
    "\n",
    "circle_length = 2 * math.pi * r\n",
    "\n",
    "circle_area = math.pi * r * r\n",
    "\n",
    "print(\"圆的周长是%f, 面积是%f \" % (circle_length, circle_area) )"
   ]
  },
  {
   "cell_type": "code",
   "execution_count": 18,
   "metadata": {},
   "outputs": [
    {
     "name": "stdout",
     "output_type": "stream",
     "text": [
      "请输入圆的半径： 2.5\n",
      "周长: 15.71\n",
      "面积: 19.64\n"
     ]
    }
   ],
   "source": [
    "\"\"\"\n",
    "输入半径计算圆的周长和面积\n",
    "\n",
    "Version: 0.1\n",
    "Author: 骆昊\n",
    "\"\"\"\n",
    "radius = float(input(\"请输入圆的半径： \"))\n",
    "perimeter = 2 * 3.1416 * radius\n",
    "area = 3.1416 * radius * radius\n",
    "print(\"周长: %.2f\" % perimeter)\n",
    "print(\"面积: %.2f\" % area)"
   ]
  },
  {
   "cell_type": "markdown",
   "metadata": {},
   "source": [
    "**练习3：输入年份判断是不是闰年。**\n",
    "\n",
    "> (闰年判定方法：能被400整除。或者能被4整除但不能被100整除。)"
   ]
  },
  {
   "cell_type": "code",
   "execution_count": 24,
   "metadata": {},
   "outputs": [
    {
     "name": "stdout",
     "output_type": "stream",
     "text": [
      "请输入年份: 2100\n",
      "False\n"
     ]
    }
   ],
   "source": [
    "\"\"\"\n",
    "输入年份，如果是闰年输出True,否则输出False\n",
    "\n",
    "version: 0.1\n",
    "author: chenfengyuan\n",
    "\"\"\"\n",
    "year = int(input(\"请输入年份: \"))\n",
    "is_run_year = year % 400 == 0 or year % 4 ==0 and year %100 != 0\n",
    "print(is_run_year)\n"
   ]
  },
  {
   "cell_type": "markdown",
   "metadata": {},
   "source": [
    "# Day 3- 分支结构"
   ]
  },
  {
   "cell_type": "markdown",
   "metadata": {},
   "source": [
    "**构造分支结构**"
   ]
  },
  {
   "cell_type": "code",
   "execution_count": 30,
   "metadata": {},
   "outputs": [
    {
     "name": "stdout",
     "output_type": "stream",
     "text": [
      "请输入应户名: admin\n",
      "请输入口令: 123456\n",
      "身份验证成功!\n"
     ]
    }
   ],
   "source": [
    "\"\"\"\n",
    "用户验证身份\n",
    "\n",
    "version: 0.1\n",
    "Author: 骆昊\n",
    "\"\"\"\n",
    "username = input(\"请输入应户名: \")\n",
    "password = input(\"请输入口令: \")\n",
    "# 用户名是admin且密码是123456则身份验证成功否则身份验证失败\n",
    "if username == \"admin\" and password == \"123456\":\n",
    "    print(\"身份验证成功!\")\n",
    "else:\n",
    "    print(\"身份验证失败!\")"
   ]
  },
  {
   "cell_type": "code",
   "execution_count": 31,
   "metadata": {},
   "outputs": [
    {
     "name": "stdout",
     "output_type": "stream",
     "text": [
      "x = 1.2\n",
      "f(1.20) = -1.40\n"
     ]
    }
   ],
   "source": [
    "\"\"\"\n",
    "分段函数求值\n",
    "\n",
    "        3x - 5  (x > 1)\n",
    "f(x) =  x + 2   (-1 <= x <= 1)\n",
    "        5x + 3  (x < -1)\n",
    "\n",
    "Version: 0.1\n",
    "Author: 骆昊\n",
    "\"\"\"\n",
    "x = float(input('x = '))\n",
    "if x > 1:\n",
    "    y = 3 * x - 5\n",
    "elif x >= -1:\n",
    "    y = x + 2\n",
    "else:\n",
    "    y = 5 * x + 3\n",
    "    \n",
    "print(\"f(%.2f) = %.2f\" % (x, y))"
   ]
  },
  {
   "cell_type": "code",
   "execution_count": 32,
   "metadata": {},
   "outputs": [
    {
     "name": "stdout",
     "output_type": "stream",
     "text": [
      "x = -2\n",
      "f(-2.00) = -7.00\n"
     ]
    }
   ],
   "source": [
    "\"\"\"\n",
    "分段函数求值\n",
    "\n",
    "        3x - 5  (x > 1)\n",
    "f(x) =  x + 2   (-1 <= x <= 1)\n",
    "        5x + 3  (x < -1)\n",
    "\n",
    "Version: 0.1\n",
    "Author: 骆昊\n",
    "\"\"\"\n",
    "x = float(input(\"x = \"))\n",
    "if x > 1:\n",
    "    y = 3 * x - 5\n",
    "else:\n",
    "    if x >= -1:\n",
    "        y = x + 2\n",
    "    else:\n",
    "        y = 5 * x + 3\n",
    "        \n",
    "print(\"f(%.2f) = %.2f\" % (x, y))"
   ]
  },
  {
   "cell_type": "markdown",
   "metadata": {},
   "source": [
    "**练习1：英制单位英寸与公制单位厘米互换。**"
   ]
  },
  {
   "cell_type": "code",
   "execution_count": 35,
   "metadata": {},
   "outputs": [
    {
     "name": "stdout",
     "output_type": "stream",
     "text": [
      "请输入长度：10\n",
      "请输入单位：in\n",
      "10.000000英寸 = 25.400000厘米\n"
     ]
    }
   ],
   "source": [
    "\"\"\"\n",
    "英制单位英寸和公制单位厘米互换\n",
    "\n",
    "Version: 0.1\n",
    "Author: 骆昊\n",
    "\"\"\"\n",
    "value = float(input(\"请输入长度：\"))\n",
    "unit = input(\"请输入单位：\")\n",
    "if unit == \"in\" or unit == \"英寸\":\n",
    "    print(\"%f英寸 = %f厘米\" % (value, value * 2.54))\n",
    "elif unit == \"cm\" or unit == \"厘米\":\n",
    "    print(\"%f厘米 = %f英寸\" % (value, value / 2.54))\n",
    "else:\n",
    "    print(\"请输入有效单位\")"
   ]
  },
  {
   "cell_type": "markdown",
   "metadata": {},
   "source": [
    "**练习2：百分制成绩转换为等级制成绩。**\n",
    "\n",
    "> **要求**：如果输入的成绩在90分以上（含90分）输出A；80分-90分（不含90分）输出B；70分-80分（不含80分）输出C；60分-70分（不含70分）输出D；60分以下输出E。"
   ]
  },
  {
   "cell_type": "code",
   "execution_count": 43,
   "metadata": {},
   "outputs": [
    {
     "name": "stdout",
     "output_type": "stream",
     "text": [
      "请输入你的百分制成绩：59\n",
      "你的等级制成绩为：E\n"
     ]
    }
   ],
   "source": [
    "\"\"\"\n",
    "百分制成绩转换为等级制成绩\n",
    "\n",
    "version: 0.1\n",
    "Author: chenfengyuan\n",
    "\"\"\"\n",
    "scores = float(input(\"请输入你的百分制成绩：\"))\n",
    "\n",
    "if scores >= 90:\n",
    "    print(\"你的等级制成绩为：%s\" % \"A\")\n",
    "elif scores >= 80:\n",
    "    print(\"你的等级制成绩为：%s\" % \"B\")\n",
    "elif scores >= 70:\n",
    "    print(\"你的等级制成绩为：%s\" % \"C\")\n",
    "elif scores >= 60:\n",
    "    print(\"你的等级制成绩为：%s\" % \"D\")\n",
    "else:\n",
    "    print(\"你的等级制成绩为：%s\" % \"E\")"
   ]
  },
  {
   "cell_type": "code",
   "execution_count": 44,
   "metadata": {},
   "outputs": [
    {
     "name": "stdout",
     "output_type": "stream",
     "text": [
      "请输入成绩: 59\n",
      "对应的等级是: E\n"
     ]
    }
   ],
   "source": [
    "\"\"\"\n",
    "百分制成绩转换为等级制成绩\n",
    "\n",
    "Version: 0.1\n",
    "Author: 骆昊\n",
    "\"\"\"\n",
    "score = float(input('请输入成绩: '))\n",
    "if score >= 90:\n",
    "    grade = 'A'\n",
    "elif score >= 80:\n",
    "    grade = 'B'\n",
    "elif score >= 70:\n",
    "    grade = 'C'\n",
    "elif score >= 60:\n",
    "    grade = 'D'\n",
    "else:\n",
    "    grade = 'E'\n",
    "print('对应的等级是:', grade)"
   ]
  },
  {
   "cell_type": "markdown",
   "metadata": {},
   "source": [
    "**练习3：输入三条边长，如果能构成三角形就计算周长和面积。**\n",
    "\n",
    "> 计算任意边长的三角形可以使用**海伦公式**"
   ]
  },
  {
   "cell_type": "code",
   "execution_count": 45,
   "metadata": {},
   "outputs": [
    {
     "name": "stdout",
     "output_type": "stream",
     "text": [
      "a = 1\n",
      "b = 1\n",
      "c = 1\n",
      "三角形的周长为：3.00, 面积为：4.90\n"
     ]
    }
   ],
   "source": [
    "\"\"\"\n",
    "判断输入的边长能否构成三角形，如果能则计算出三角形的周长和面积\n",
    "\n",
    "Version: 0.1\n",
    "Author: chenfengyuan\n",
    "\"\"\"\n",
    "a = float(input(\"a = \"))\n",
    "b = float(input(\"b = \"))\n",
    "c = float(input(\"c = \"))\n",
    "\n",
    "if a + b >c and a + c > b and b + c >a:\n",
    "    perimeter = a + b + c\n",
    "    p = perimeter\n",
    "    area = (p * (p - a) * (p - b) * (p - c))**(0.5)\n",
    "    print(\"三角形的周长为：%.2f, 面积为：%.2f\" % (p, area))\n",
    "else:\n",
    "    print(\"输入的边长不能构成三角形\")"
   ]
  },
  {
   "cell_type": "markdown",
   "metadata": {},
   "source": [
    "# Day 4- 循环结构"
   ]
  },
  {
   "cell_type": "markdown",
   "metadata": {},
   "source": [
    "#### for-in 循环"
   ]
  },
  {
   "cell_type": "markdown",
   "metadata": {},
   "source": [
    "如果明确的知道循环执行的次数或者要对一个容器进行迭代（后面会讲到），那么我们推荐使用`for-in`循环，例如下面代码中计算1~100求和的结果（$\\displaystyle \\sum \\limits_{n=1}^{100}n$）。 "
   ]
  },
  {
   "cell_type": "code",
   "execution_count": 46,
   "metadata": {},
   "outputs": [
    {
     "name": "stdout",
     "output_type": "stream",
     "text": [
      "5050\n"
     ]
    }
   ],
   "source": [
    "\"\"\"\n",
    "用for循环实现1~100求和\n",
    "\n",
    "Version: 0.1\n",
    "Author: 骆昊\n",
    "\"\"\"\n",
    "sum = 0\n",
    "for x in range(1,101):\n",
    "    sum += x\n",
    "    \n",
    "print(sum)"
   ]
  },
  {
   "cell_type": "markdown",
   "metadata": {},
   "source": [
    "- `range(101)`：可以用来产生0到100范围的整数，需要注意的是取不到101。\n",
    "- `range(1, 101)`：可以用来产生1到100范围的整数，相当于前面是闭区间后面是开区间。\n",
    "- `range(1, 101, 2)`：可以用来产生1到100的奇数，其中2是步长，即每次数值递增的值。\n",
    "- `range(100, 0, -2)`：可以用来产生100到1的偶数，其中-2是步长，即每次数字递减的值。"
   ]
  },
  {
   "cell_type": "code",
   "execution_count": 48,
   "metadata": {},
   "outputs": [
    {
     "name": "stdout",
     "output_type": "stream",
     "text": [
      "2550\n"
     ]
    }
   ],
   "source": [
    "\"\"\"\n",
    "用for循环实现1~100之间的偶数求和\n",
    "\n",
    "Version: 0.1\n",
    "Author: 骆昊\n",
    "\"\"\"\n",
    "\n",
    "sum = 0\n",
    "for x in range(2, 101, 2):\n",
    "    sum += x \n",
    "    \n",
    "print(sum)\n",
    "    "
   ]
  },
  {
   "cell_type": "code",
   "execution_count": 49,
   "metadata": {},
   "outputs": [
    {
     "name": "stdout",
     "output_type": "stream",
     "text": [
      "2550\n"
     ]
    }
   ],
   "source": [
    "\"\"\"\n",
    "用for循环实现1~100之间的偶数求和\n",
    "\n",
    "Version: 0.1\n",
    "Author: 骆昊\n",
    "\"\"\"\n",
    "sum = 0\n",
    "for x in range(1,101):\n",
    "    if x % 2 == 0:\n",
    "        sum += x\n",
    "        \n",
    "print(sum)"
   ]
  },
  {
   "cell_type": "markdown",
   "metadata": {},
   "source": [
    "#### While循环"
   ]
  },
  {
   "cell_type": "markdown",
   "metadata": {},
   "source": [
    "如果要构造不知道具体循环次数的循环结构，我们推荐使用`while`循环。`while`循环通过一个能够产生或转换出`bool`值的表达式来控制循环，表达式的值为`True`则继续循环；表达式的值为`False`则结束循环。\n",
    "\n",
    "下面我们通过一个“猜数字”的小游戏来看看如何使用`while`循环。猜数字游戏的规则是：计算机出一个1到100之间的随机数，玩家输入自己猜的数字，计算机给出对应的提示信息（大一点、小一点或猜对了），如果玩家猜中了数字，计算机提示用户一共猜了多少次，游戏结束，否则游戏继续。"
   ]
  },
  {
   "cell_type": "code",
   "execution_count": 52,
   "metadata": {},
   "outputs": [
    {
     "name": "stdout",
     "output_type": "stream",
     "text": [
      "请输入：50\n",
      "大一点\n",
      "请输入：75\n",
      "小一点\n",
      "请输入：62\n",
      "小一点\n",
      "请输入：56\n",
      "小一点\n",
      "请输入：53\n",
      "大一点\n",
      "请输入：55\n",
      "小一点\n",
      "请输入：54\n",
      "恭喜你猜对了！\n",
      "你总共猜了7次\n"
     ]
    }
   ],
   "source": [
    "\"\"\"\n",
    "猜数字游戏\n",
    "\n",
    "Version: 0.1\n",
    "Author: 骆昊\n",
    "\"\"\"\n",
    "import random\n",
    "\n",
    "answer = random.randint(1, 100)\n",
    "counter = 0\n",
    "while True:\n",
    "    counter += 1\n",
    "    number = int(input(\"请输入：\"))\n",
    "    if number < answer:\n",
    "        print(\"大一点\")\n",
    "    elif number > answer:\n",
    "        print(\"小一点\")\n",
    "    else:\n",
    "        print(\"恭喜你猜对了！\")\n",
    "        break\n",
    "print(\"你总共猜了%d次\" % counter)\n",
    "\n",
    "if counter > 7:\n",
    "    print(\"你的智商余额明显不足\")"
   ]
  },
  {
   "cell_type": "markdown",
   "metadata": {},
   "source": [
    "和分支结构一样，循环结构也是可以嵌套的，也就是说在循环中还可以构造循环结构。下面的例子演示了如何通过嵌套的循环来输出一个九九乘法表。"
   ]
  },
  {
   "cell_type": "code",
   "execution_count": 53,
   "metadata": {},
   "outputs": [
    {
     "name": "stdout",
     "output_type": "stream",
     "text": [
      "1 * 1 = 1\t\n",
      "2 * 1 = 2\t2 * 2 = 4\t\n",
      "3 * 1 = 3\t3 * 2 = 6\t3 * 3 = 9\t\n",
      "4 * 1 = 4\t4 * 2 = 8\t4 * 3 = 12\t4 * 4 = 16\t\n",
      "5 * 1 = 5\t5 * 2 = 10\t5 * 3 = 15\t5 * 4 = 20\t5 * 5 = 25\t\n",
      "6 * 1 = 6\t6 * 2 = 12\t6 * 3 = 18\t6 * 4 = 24\t6 * 5 = 30\t6 * 6 = 36\t\n",
      "7 * 1 = 7\t7 * 2 = 14\t7 * 3 = 21\t7 * 4 = 28\t7 * 5 = 35\t7 * 6 = 42\t7 * 7 = 49\t\n",
      "8 * 1 = 8\t8 * 2 = 16\t8 * 3 = 24\t8 * 4 = 32\t8 * 5 = 40\t8 * 6 = 48\t8 * 7 = 56\t8 * 8 = 64\t\n",
      "9 * 1 = 9\t9 * 2 = 18\t9 * 3 = 27\t9 * 4 = 36\t9 * 5 = 45\t9 * 6 = 54\t9 * 7 = 63\t9 * 8 = 72\t9 * 9 = 81\t\n"
     ]
    }
   ],
   "source": [
    "\"\"\"\n",
    "输出乘法口诀表(九九表)\n",
    "\n",
    "Version: 0.1\n",
    "Author: 骆昊\n",
    "\"\"\"\n",
    "\n",
    "for i in range(1, 10):\n",
    "    for j in range(1, i + 1):\n",
    "        print(\"%d * %d = %d\" % (i, j, i * j), end = \"\\t\")\n",
    "    print()"
   ]
  },
  {
   "cell_type": "markdown",
   "metadata": {},
   "source": [
    "#### 练习1：输入一个正整数判断是不是素数。\n",
    "\n",
    "> **提示**：素数指的是只能被1和自身整除的大于1的整数。"
   ]
  },
  {
   "cell_type": "code",
   "execution_count": 56,
   "metadata": {},
   "outputs": [
    {
     "name": "stdout",
     "output_type": "stream",
     "text": [
      "请输入您要判断的正整数：99\n",
      "您输入的正整数 99 不是素数\n"
     ]
    }
   ],
   "source": [
    "\"\"\"\n",
    "输入一个正整数判断是不是素数\n",
    "\n",
    "version: 0.1\n",
    "Author: chenfeng yuan\n",
    "\"\"\"\n",
    "num = int(input(\"请输入您要判断的正整数：\"))\n",
    "count = 0\n",
    "for x in range(1, num + 1):\n",
    "    if num % x == 0:\n",
    "        count += 1\n",
    "        \n",
    "if count > 2:\n",
    "    print(\"您输入的正整数 %d 不是素数\" % num)\n",
    "else:\n",
    "    print(\"您输入的正整数 %d 是素数\" % num)"
   ]
  },
  {
   "cell_type": "code",
   "execution_count": 57,
   "metadata": {},
   "outputs": [
    {
     "name": "stdout",
     "output_type": "stream",
     "text": [
      "请输入一个正整数：99\n",
      "99不是素数 \n"
     ]
    }
   ],
   "source": [
    "\"\"\"\n",
    "输入一个正整数判断它是不是素数\n",
    "\n",
    "Version: 0.1\n",
    "Author: 骆昊\n",
    "Date: 2018-03-01\n",
    "\"\"\"\n",
    "from math import sqrt\n",
    "\n",
    "num = int(input(\"请输入一个正整数：\"))\n",
    "end = int(sqrt(num))\n",
    "is_prime = True\n",
    "for x in range(2, end + 1):\n",
    "    if num % x == 0:\n",
    "        is_prime = False\n",
    "        break\n",
    "    \n",
    "if is_prime and num != 1:\n",
    "    print(\"%d是素数 \" % num)\n",
    "else:\n",
    "    print(\"%d不是素数 \"% num)"
   ]
  },
  {
   "cell_type": "markdown",
   "metadata": {},
   "source": [
    "#### 练习2：输入两个正整数，计算它们的最大公约数和最小公倍数。\n",
    "\n",
    "> **提示**：两个数的最大公约数是两个数的公共因子中最大的那个数；两个数的最小公倍数则是能够同时被两个数整除的最小的那个数。"
   ]
  },
  {
   "cell_type": "code",
   "execution_count": 60,
   "metadata": {},
   "outputs": [
    {
     "name": "stdout",
     "output_type": "stream",
     "text": [
      "x = 5\n",
      "y = 10\n",
      "5和10的最大公约数是5\n",
      "5和10的最小公倍数是10\n"
     ]
    }
   ],
   "source": [
    "\"\"\"\n",
    "输入两个正整数计算它们的最大公约数和最小公倍数\n",
    "\n",
    "Version: 0.1\n",
    "Author: 骆昊\n",
    "Date: 2020-07-07\n",
    "\"\"\"\n",
    "x = int(input(\"x = \"))\n",
    "y = int(input(\"y = \"))\n",
    "if x > y:\n",
    "    # 通过下面的操作将y的值赋给x，将x的值赋给y\n",
    "    x, y = y, x\n",
    "for factor in range(x, 0, -1):\n",
    "    if x % factor == 0 and y % factor == 0:\n",
    "        print(\"%d和%d的最大公约数是%d\" % (x, y, factor))\n",
    "        print(\"%d和%d的最小公倍数是%d\" % (x, y, x * y // factor))\n",
    "        break        \n",
    "    "
   ]
  },
  {
   "cell_type": "code",
   "execution_count": 1,
   "metadata": {},
   "outputs": [
    {
     "name": "stdout",
     "output_type": "stream",
     "text": [
      "m = 24\n",
      "n = 36\n",
      "所求最大公约数是： 12 \n",
      "所求最小倍数是： 72 \n"
     ]
    }
   ],
   "source": [
    "\"\"\"使用欧几里得算法实现求最大公约数\"\"\"\n",
    "\n",
    "# 欧几里得算法的普通实现\n",
    "m = int(input(\"m = \"))\n",
    "n = int(input(\"n = \"))\n",
    "\n",
    "if m > n:\n",
    "\tm, n = n, m\n",
    "\n",
    "# while n % m != 0:\n",
    "# \tp = n % m\n",
    "# \tn = m\n",
    "# \tm = p\n",
    "# print(\"所求最小公约数是： %d\" % m)\n",
    "\n",
    "# 优化实现：同时计算最小公约数和最小公倍数\n",
    "\n",
    "\n",
    "\n",
    "def func(m,n):\n",
    "\t# while p != 0::\n",
    "\tif m > n:\n",
    "\t\tm, n = n, m\n",
    "\twhile n % m != 0:\n",
    "\t\tp = n % m\n",
    "\t\tn = m\n",
    "\t\tm = p\n",
    "\treturn m\n",
    "most_common_divisor = func(m, n)\n",
    "least_common_multiple = m * n // most_common_divisor\n",
    "\n",
    "print(\"所求最大公约数是： %d \" % most_common_divisor)\n",
    "print(\"所求最小倍数是： %d \" % least_common_multiple)\n",
    "\n"
   ]
  },
  {
   "cell_type": "code",
   "execution_count": 4,
   "metadata": {},
   "outputs": [
    {
     "name": "stdout",
     "output_type": "stream",
     "text": [
      "15\n",
      "p = 4\n",
      "q = 8\n"
     ]
    },
    {
     "data": {
      "text/plain": [
       "4"
      ]
     },
     "execution_count": 4,
     "metadata": {},
     "output_type": "execute_result"
    }
   ],
   "source": [
    "\"\"\"高级版的实现欧几里得算法\"\"\"\n",
    "def euclid(p, q):\n",
    "    if q == 0:\n",
    "        return p\n",
    "    r = p % q\n",
    "    return euclid(q, r)\n",
    "\n",
    "if __name__ == \"__main__\":\n",
    "    print(euclid(15,75))\n",
    "    \n",
    "p = int(input(\"p = \"))\n",
    "q = int(input(\"q = \"))\n",
    "euclid(p, q)"
   ]
  },
  {
   "cell_type": "markdown",
   "metadata": {},
   "source": [
    "练习3：打印如下所示的三角形图案。"
   ]
  },
  {
   "cell_type": "code",
   "execution_count": 6,
   "metadata": {},
   "outputs": [
    {
     "name": "stdout",
     "output_type": "stream",
     "text": [
      "*\n"
     ]
    }
   ],
   "source": [
    "print('*')"
   ]
  },
  {
   "cell_type": "code",
   "execution_count": 15,
   "metadata": {},
   "outputs": [
    {
     "name": "stdout",
     "output_type": "stream",
     "text": [
      "*\n",
      "**\n",
      "***\n",
      "****\n",
      "*****\n"
     ]
    }
   ],
   "source": [
    "for i in range(1,6):\n",
    "    for j in range(i):\n",
    "        print(\"*\", end='')\n",
    "    print('\\n',end='')"
   ]
  },
  {
   "cell_type": "code",
   "execution_count": 17,
   "metadata": {},
   "outputs": [
    {
     "name": "stdout",
     "output_type": "stream",
     "text": [
      "     *\n",
      "    **\n",
      "   ***\n",
      "  ****\n",
      " *****\n"
     ]
    }
   ],
   "source": [
    "for i in range(1, 6):\n",
    "    for j in range(6 - i):\n",
    "        print(' ',end='')\n",
    "    for k in range(i):\n",
    "        print(\"*\", end='')\n",
    "    print('\\n', end='')\n",
    "        "
   ]
  },
  {
   "cell_type": "code",
   "execution_count": 19,
   "metadata": {},
   "outputs": [
    {
     "name": "stdout",
     "output_type": "stream",
     "text": [
      "     *\n",
      "    ***\n",
      "   *****\n",
      "  *******\n",
      " *********\n"
     ]
    }
   ],
   "source": [
    "for i in range(1, 6):\n",
    "    for j in range(6 - i):\n",
    "        print(' ', end='')\n",
    "    for k in range(i * 2 -1):\n",
    "        print(\"*\", end='')\n",
    "#     for m in range(6 - i):\n",
    "#         print(' ', end='')\n",
    "    print('\\n', end='')\n",
    "        "
   ]
  },
  {
   "cell_type": "code",
   "execution_count": 22,
   "metadata": {},
   "outputs": [
    {
     "name": "stdout",
     "output_type": "stream",
     "text": [
      "请输入行数： 5\n",
      "*\n",
      "**\n",
      "***\n",
      "****\n",
      "*****\n",
      "    *\n",
      "   **\n",
      "  ***\n",
      " ****\n",
      "*****\n",
      "    *\n",
      "   ***\n",
      "  *****\n",
      " *******\n",
      "*********\n"
     ]
    }
   ],
   "source": [
    "\"\"\"\n",
    "打印三角形图案\n",
    "\n",
    "Version: 0.1\n",
    "Author: 骆昊\n",
    "\"\"\"\n",
    "row = int(input('请输入行数： '))\n",
    "for i in range(row):\n",
    "    for _ in range(i + 1):\n",
    "        print('*', end='')\n",
    "    print()\n",
    "for i in range(row):\n",
    "    for j in range(row):\n",
    "        if j < row - i - 1:\n",
    "            print(' ', end='')\n",
    "        else:\n",
    "            print('*', end='')\n",
    "    print()\n",
    "    \n",
    "for i in range(row):\n",
    "    for _ in range(row - i - 1):\n",
    "        print(' ', end='')\n",
    "    for _ in range(2 * i + 1):\n",
    "        print('*', end='')\n",
    "    print()\n",
    "    "
   ]
  },
  {
   "cell_type": "code",
   "execution_count": null,
   "metadata": {},
   "outputs": [],
   "source": []
  }
 ],
 "metadata": {
  "kernelspec": {
   "display_name": "Python 3.7.6 64-bit ('base': conda)",
   "language": "python",
   "name": "python37664bitbaseconda6edf597d611c4a25acb3a8ffc352a062"
  },
  "language_info": {
   "codemirror_mode": {
    "name": "ipython",
    "version": 3
   },
   "file_extension": ".py",
   "mimetype": "text/x-python",
   "name": "python",
   "nbconvert_exporter": "python",
   "pygments_lexer": "ipython3",
   "version": "3.7.6"
  }
 },
 "nbformat": 4,
 "nbformat_minor": 4
}
